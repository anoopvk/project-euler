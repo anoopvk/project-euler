{
 "cells": [
  {
   "cell_type": "code",
   "execution_count": null,
   "metadata": {},
   "outputs": [],
   "source": [
    "f = open(\"p022_names.txt\")\n",
    "a = f.read()\n",
    "b = a.split('\",\"')\n",
    "# del b[0][0]\n",
    "print(len(b))\n",
    "b[0] = b[0].replace('\"', \"\")\n",
    "b[5162] = b[5162].replace('\"', \"\")\n",
    "print(b[0] < b[1])\n",
    "\n",
    "\n",
    "def sortt(a):\n",
    "    for j in range(len(a)):\n",
    "        for i in range(len(a) - 1):\n",
    "            if a[i] > a[i + 1]:\n",
    "                temp = a[i + 1]\n",
    "                a[i + 1] = a[i]\n",
    "                a[i] = temp\n",
    "    return a\n",
    "\n",
    "\n",
    "sorted = sortt(b)\n",
    "total = 0\n",
    "# print(ord(\"A\"))\n",
    "for name in range(len(sorted)):\n",
    "    sum = 0\n",
    "    for i in sorted[name]:\n",
    "        number = ord(i) - 64\n",
    "        sum += number\n",
    "    sum = sum * (name + 1)\n",
    "    print(\"sum =\", sum)\n",
    "    total += sum\n",
    "\n",
    "print(\"total=\", total)\n"
   ]
  }
 ],
 "metadata": {
  "kernelspec": {
   "display_name": "Python 3",
   "language": "python",
   "name": "python3"
  },
  "language_info": {
   "codemirror_mode": {
    "name": "ipython",
    "version": 3
   },
   "file_extension": ".py",
   "mimetype": "text/x-python",
   "name": "python",
   "nbconvert_exporter": "python",
   "pygments_lexer": "ipython3",
   "version": "3.7.3"
  }
 },
 "nbformat": 4,
 "nbformat_minor": 2
}
