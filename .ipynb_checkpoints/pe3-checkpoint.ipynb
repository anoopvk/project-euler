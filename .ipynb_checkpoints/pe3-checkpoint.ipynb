{
 "cells": [
  {
   "cell_type": "code",
   "execution_count": null,
   "metadata": {},
   "outputs": [
    {
     "name": "stdout",
     "output_type": "stream",
     "text": [
      "i  71\n",
      "i  839\n",
      "i  1471\n",
      "i  6857\n"
     ]
    }
   ],
   "source": [
    "def isprime(a):\n",
    "    ret=1\n",
    "    for i in range(2,a-1):\n",
    "        if(a%i==0):\n",
    "            ret=0\n",
    "#     print(\"ret \",ret)\n",
    "    return ret\n",
    "\n",
    "def primefactor(num):\n",
    "    for i in range(2,num):\n",
    "        if num%i==0 and isprime(i):\n",
    "            print(\"i \",i)\n",
    "primefactor(600851475143)\n",
    "# isprime(7)\n",
    "            "
   ]
  },
  {
   "cell_type": "code",
   "execution_count": null,
   "metadata": {},
   "outputs": [],
   "source": []
  }
 ],
 "metadata": {
  "kernelspec": {
   "display_name": "Python 3",
   "language": "python",
   "name": "python3"
  },
  "language_info": {
   "codemirror_mode": {
    "name": "ipython",
    "version": 3
   },
   "file_extension": ".py",
   "mimetype": "text/x-python",
   "name": "python",
   "nbconvert_exporter": "python",
   "pygments_lexer": "ipython3",
   "version": "3.7.3"
  }
 },
 "nbformat": 4,
 "nbformat_minor": 2
}
