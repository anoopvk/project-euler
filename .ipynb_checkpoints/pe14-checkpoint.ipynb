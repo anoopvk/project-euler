{
 "cells": [
  {
   "cell_type": "code",
   "execution_count": 4,
   "metadata": {},
   "outputs": [
    {
     "data": {
      "text/plain": [
       "2"
      ]
     },
     "execution_count": 4,
     "metadata": {},
     "output_type": "execute_result"
    }
   ],
   "source": [
    "import sys \n",
    " \n",
    "sys.setrecursionlimit(10000000)\n",
    "\n",
    "def collatz(num,count):\n",
    "    if num==1:\n",
    "        return count+1\n",
    "    elif num%2==0:\n",
    "        return collatz(num//2,count+1)\n",
    "    else:\n",
    "        return collatz((3*num)+1,count+1)\n",
    "        \n"
   ]
  },
  {
   "cell_type": "code",
   "execution_count": 2,
   "metadata": {},
   "outputs": [
    {
     "name": "stdout",
     "output_type": "stream",
     "text": [
      "2 ----- 2\n",
      "3 ----- 8\n",
      "6 ----- 9\n",
      "7 ----- 17\n",
      "9 ----- 20\n"
     ]
    }
   ],
   "source": [
    "maxcount=0\n",
    "for i in range(2,10):\n",
    "    count=collatz(i,0)\n",
    "    if count>maxcount:\n",
    "        maxcount=count\n",
    "        print(i,\"-----\",maxcount)"
   ]
  },
  {
   "cell_type": "code",
   "execution_count": null,
   "metadata": {},
   "outputs": [],
   "source": []
  }
 ],
 "metadata": {
  "kernelspec": {
   "display_name": "Python 3",
   "language": "python",
   "name": "python3"
  },
  "language_info": {
   "codemirror_mode": {
    "name": "ipython",
    "version": 3
   },
   "file_extension": ".py",
   "mimetype": "text/x-python",
   "name": "python",
   "nbconvert_exporter": "python",
   "pygments_lexer": "ipython3",
   "version": "3.7.3"
  }
 },
 "nbformat": 4,
 "nbformat_minor": 2
}
