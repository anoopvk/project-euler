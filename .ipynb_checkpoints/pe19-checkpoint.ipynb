{
 "cells": [
  {
   "cell_type": "code",
   "execution_count": 3,
   "metadata": {},
   "outputs": [
    {
     "data": {
      "text/plain": [
       "1"
      ]
     },
     "execution_count": 3,
     "metadata": {},
     "output_type": "execute_result"
    }
   ],
   "source": [
    "monthday={\"jan\":31,\n",
    "         \"feb\":28,\n",
    "         \"march\":31,\n",
    "         \"april\":30,\n",
    "          \"may\":31,\n",
    "          \"june\":30,\n",
    "          \"july\":31,\n",
    "          \"aug\":31,\n",
    "          \"sept\":30,\n",
    "          \"oct\":31,\n",
    "          \"nov\":30,\n",
    "          \"dec\":31,\n",
    "         }\n",
    "monthdayleap={\"jan\":31,\n",
    "         \"feb\":29,\n",
    "         \"march\":31,\n",
    "         \"april\":30,\n",
    "          \"may\":31,\n",
    "          \"june\":30,\n",
    "          \"july\":31,\n",
    "          \"aug\":31,\n",
    "          \"sept\":30,\n",
    "          \"oct\":31,\n",
    "          \"nov\":30,\n",
    "          \"dec\":31,\n",
    "         }\n",
    "daycount=0\n",
    "suncount=0\n",
    "for year in range(1901,2001):\n",
    "    if year%4==0:\n",
    "        for month in monthdayleap:\n",
    "            if year==2000 and monthdayleap[month]==\"dec\":\n",
    "                break\n",
    "            daycount+=monthdayleap[month]\n",
    "            if daycount%7==6:\n",
    "                suncount+=1\n",
    "        for month in monthdayleap:\n",
    "            daycount+=monthday[month]\n",
    "            if daycount%7==6:\n",
    "                suncount+=1\n",
    "            "
   ]
  },
  {
   "cell_type": "code",
   "execution_count": null,
   "metadata": {},
   "outputs": [],
   "source": []
  }
 ],
 "metadata": {
  "kernelspec": {
   "display_name": "Python 3",
   "language": "python",
   "name": "python3"
  },
  "language_info": {
   "codemirror_mode": {
    "name": "ipython",
    "version": 3
   },
   "file_extension": ".py",
   "mimetype": "text/x-python",
   "name": "python",
   "nbconvert_exporter": "python",
   "pygments_lexer": "ipython3",
   "version": "3.7.3"
  }
 },
 "nbformat": 4,
 "nbformat_minor": 2
}
