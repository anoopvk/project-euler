{
 "cells": [
  {
   "cell_type": "code",
   "execution_count": 79,
   "metadata": {},
   "outputs": [],
   "source": [
    "def pal(n):\n",
    "    s=str(n)\n",
    "    l=len(s)\n",
    "    flag=1\n",
    "    for i in range(l//2):\n",
    "        if s[i]!=s[l-i-1]:\n",
    "            flag=0\n",
    "    return flag\n"
   ]
  },
  {
   "cell_type": "code",
   "execution_count": 80,
   "metadata": {},
   "outputs": [
    {
     "name": "stdout",
     "output_type": "stream",
     "text": [
      "906609\n",
      "i =  993\n",
      "j =  913\n"
     ]
    }
   ],
   "source": [
    "high=0\n",
    "for i in range(999,100,-1):\n",
    "    for j in range(999,100,-1):\n",
    "       \n",
    "        if pal(j*i)==1 and j*i>high:\n",
    "                high=j*i\n",
    "                ii=i\n",
    "                jj=j\n",
    "print(high)\n",
    "print(\"i = \",ii)\n",
    "print(\"j = \",jj)"
   ]
  },
  {
   "cell_type": "code",
   "execution_count": null,
   "metadata": {},
   "outputs": [],
   "source": []
  },
  {
   "cell_type": "code",
   "execution_count": null,
   "metadata": {},
   "outputs": [],
   "source": []
  },
  {
   "cell_type": "code",
   "execution_count": null,
   "metadata": {},
   "outputs": [],
   "source": []
  }
 ],
 "metadata": {
  "kernelspec": {
   "display_name": "Python 3",
   "language": "python",
   "name": "python3"
  },
  "language_info": {
   "codemirror_mode": {
    "name": "ipython",
    "version": 3
   },
   "file_extension": ".py",
   "mimetype": "text/x-python",
   "name": "python",
   "nbconvert_exporter": "python",
   "pygments_lexer": "ipython3",
   "version": "3.7.3"
  }
 },
 "nbformat": 4,
 "nbformat_minor": 2
}
