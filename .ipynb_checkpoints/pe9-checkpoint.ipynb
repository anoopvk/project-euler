{
 "cells": [
  {
   "cell_type": "code",
   "execution_count": null,
   "metadata": {},
   "outputs": [
    {
     "name": "stdout",
     "output_type": "stream",
     "text": [
      "31875000\n",
      "2.013145685195923\n"
     ]
    }
   ],
   "source": [
    "import time\n",
    "start=time.time()\n",
    "for c in range(1001):\n",
    "    for b in range(c):\n",
    "        for a in range(b):\n",
    "            if a+b+c==1000:\n",
    "                if a**2 + b**2 == c**2:\n",
    "                    print (a*b*c)\n",
    "                    end=time.time()\n",
    "                    print(end-start)"
   ]
  },
  {
   "cell_type": "code",
   "execution_count": null,
   "metadata": {},
   "outputs": [],
   "source": []
  }
 ],
 "metadata": {
  "kernelspec": {
   "display_name": "Python 3",
   "language": "python",
   "name": "python3"
  },
  "language_info": {
   "codemirror_mode": {
    "name": "ipython",
    "version": 3
   },
   "file_extension": ".py",
   "mimetype": "text/x-python",
   "name": "python",
   "nbconvert_exporter": "python",
   "pygments_lexer": "ipython3",
   "version": "3.7.3"
  }
 },
 "nbformat": 4,
 "nbformat_minor": 2
}
