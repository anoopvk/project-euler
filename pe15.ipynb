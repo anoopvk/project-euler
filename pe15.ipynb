{
 "cells": [
  {
   "cell_type": "code",
   "execution_count": 44,
   "metadata": {},
   "outputs": [
    {
     "name": "stdout",
     "output_type": "stream",
     "text": [
      "137846528820\n"
     ]
    }
   ],
   "source": [
    "num=21\n",
    "# num+=1\n",
    "a=[[0 for i in range(num)] for j in range(num)]\n",
    "for i in range(num):\n",
    "    a[num-1][i]=1\n",
    "    a[i][num-1]=1\n",
    "    \n",
    "    \n",
    "def sum(a,i,j):\n",
    "    if a[i][j]==1:\n",
    "        return a\n",
    "    else:\n",
    "        if a[i][j]==0:\n",
    "            sum(a,i,j+1)\n",
    "            sum(a,i+1,j)\n",
    "            a[i][j]=a[i][j+1]+a[i+1][j]\n",
    "#             for k in range(4):\n",
    "#                 print(a[k])\n",
    "#             print(\"------\",i,j,\"------------------------------------\")\n",
    "        return a\n",
    "s=sum(a,0,0)\n",
    "print(s[0][0])"
   ]
  },
  {
   "cell_type": "code",
   "execution_count": null,
   "metadata": {},
   "outputs": [],
   "source": []
  },
  {
   "cell_type": "code",
   "execution_count": null,
   "metadata": {},
   "outputs": [],
   "source": []
  },
  {
   "cell_type": "code",
   "execution_count": null,
   "metadata": {},
   "outputs": [],
   "source": []
  },
  {
   "cell_type": "code",
   "execution_count": null,
   "metadata": {},
   "outputs": [],
   "source": []
  },
  {
   "cell_type": "code",
   "execution_count": null,
   "metadata": {},
   "outputs": [],
   "source": [
    "\n",
    "    "
   ]
  },
  {
   "cell_type": "code",
   "execution_count": null,
   "metadata": {},
   "outputs": [],
   "source": []
  },
  {
   "cell_type": "code",
   "execution_count": null,
   "metadata": {},
   "outputs": [],
   "source": []
  }
 ],
 "metadata": {
  "kernelspec": {
   "display_name": "Python 3",
   "language": "python",
   "name": "python3"
  },
  "language_info": {
   "codemirror_mode": {
    "name": "ipython",
    "version": 3
   },
   "file_extension": ".py",
   "mimetype": "text/x-python",
   "name": "python",
   "nbconvert_exporter": "python",
   "pygments_lexer": "ipython3",
   "version": "3.7.3"
  }
 },
 "nbformat": 4,
 "nbformat_minor": 2
}
