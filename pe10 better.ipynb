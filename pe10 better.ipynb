{
 "cells": [
  {
   "cell_type": "code",
   "execution_count": null,
   "metadata": {},
   "outputs": [],
   "source": []
  },
  {
   "cell_type": "code",
   "execution_count": 38,
   "metadata": {},
   "outputs": [
    {
     "name": "stdout",
     "output_type": "stream",
     "text": [
      "142913828922\n",
      "0.8570616245269775\n"
     ]
    }
   ],
   "source": [
    "import time\n",
    "start=time.time()\n",
    "import math\n",
    "\n",
    "a=[0]*2000001\n",
    "s=0\n",
    "for i in range(2,2000000):\n",
    "    if a[i]== 0:\n",
    "        s=s+i\n",
    "        if(i<math.sqrt(2000000)):\n",
    "            for j in range(2,(2000000//i)+1):\n",
    "                a[i*j]=1\n",
    "print(s)\n",
    "\n",
    "\n",
    "end=time.time()\n",
    "print(end-start)"
   ]
  },
  {
   "cell_type": "code",
   "execution_count": null,
   "metadata": {},
   "outputs": [],
   "source": []
  },
  {
   "cell_type": "code",
   "execution_count": null,
   "metadata": {},
   "outputs": [],
   "source": []
  }
 ],
 "metadata": {
  "kernelspec": {
   "display_name": "Python 3",
   "language": "python",
   "name": "python3"
  },
  "language_info": {
   "codemirror_mode": {
    "name": "ipython",
    "version": 3
   },
   "file_extension": ".py",
   "mimetype": "text/x-python",
   "name": "python",
   "nbconvert_exporter": "python",
   "pygments_lexer": "ipython3",
   "version": "3.7.3"
  }
 },
 "nbformat": 4,
 "nbformat_minor": 2
}
