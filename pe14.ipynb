{
 "cells": [
  {
   "cell_type": "code",
   "execution_count": 18,
   "metadata": {},
   "outputs": [
    {
     "name": "stdout",
     "output_type": "stream",
     "text": [
      "1 ----- 1\n",
      "2 ----- 2\n",
      "3 ----- 8\n",
      "6 ----- 9\n",
      "7 ----- 17\n",
      "9 ----- 20\n",
      "18 ----- 21\n",
      "25 ----- 24\n",
      "27 ----- 112\n",
      "54 ----- 113\n",
      "73 ----- 116\n",
      "97 ----- 119\n",
      "129 ----- 122\n",
      "171 ----- 125\n",
      "231 ----- 128\n",
      "313 ----- 131\n",
      "327 ----- 144\n",
      "649 ----- 145\n",
      "703 ----- 171\n",
      "871 ----- 179\n",
      "1161 ----- 182\n",
      "2223 ----- 183\n",
      "2463 ----- 209\n",
      "2919 ----- 217\n",
      "3711 ----- 238\n",
      "6171 ----- 262\n",
      "10971 ----- 268\n",
      "13255 ----- 276\n",
      "17647 ----- 279\n",
      "23529 ----- 282\n",
      "26623 ----- 308\n",
      "34239 ----- 311\n",
      "35655 ----- 324\n",
      "52527 ----- 340\n",
      "77031 ----- 351\n",
      "106239 ----- 354\n",
      "142587 ----- 375\n",
      "156159 ----- 383\n",
      "216367 ----- 386\n",
      "230631 ----- 443\n",
      "410011 ----- 449\n",
      "511935 ----- 470\n",
      "626331 ----- 509\n",
      "837799 ----- 525\n",
      "27.012019634246826\n"
     ]
    }
   ],
   "source": [
    "# import sys \n",
    " \n",
    "# sys.setrecursionlimit(10000000)\n",
    "import time\n",
    "start=time.time()\n",
    "def collatz(num,count):\n",
    "    if num==1:\n",
    "        return count+1\n",
    "    elif num%2==0:\n",
    "        return collatz(num//2,count+1)\n",
    "    else:\n",
    "        return collatz((3*num)+1,count+1)\n",
    "        \n",
    "maxcount=0\n",
    "val=1\n",
    "for i in range(1,1000000):\n",
    "    count=collatz(i,0)\n",
    "    if count>maxcount:\n",
    "        maxcount=count\n",
    "        val=i\n",
    "        print(val,\"-----\",maxcount)\n",
    "#     print(i,\"-----\",count,\"-----\",maxcount)\n",
    "    \n",
    "    \n",
    "    \n",
    "\n",
    "end=time.time()\n",
    "print(end-start)"
   ]
  },
  {
   "cell_type": "code",
   "execution_count": null,
   "metadata": {},
   "outputs": [],
   "source": []
  },
  {
   "cell_type": "code",
   "execution_count": null,
   "metadata": {},
   "outputs": [],
   "source": []
  }
 ],
 "metadata": {
  "kernelspec": {
   "display_name": "Python 3",
   "language": "python",
   "name": "python3"
  },
  "language_info": {
   "codemirror_mode": {
    "name": "ipython",
    "version": 3
   },
   "file_extension": ".py",
   "mimetype": "text/x-python",
   "name": "python",
   "nbconvert_exporter": "python",
   "pygments_lexer": "ipython3",
   "version": "3.7.3"
  }
 },
 "nbformat": 4,
 "nbformat_minor": 2
}
