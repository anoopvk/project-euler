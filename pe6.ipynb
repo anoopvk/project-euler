{
 "cells": [
  {
   "cell_type": "code",
   "execution_count": 10,
   "metadata": {},
   "outputs": [
    {
     "name": "stdout",
     "output_type": "stream",
     "text": [
      "25502500\n",
      "338350\n",
      "25164150\n"
     ]
    }
   ],
   "source": [
    "sums=0\n",
    "sumsq=0\n",
    "for i in range(1,101):\n",
    "    sums=sums+i\n",
    "    sumsq=sumsq+(i**2)\n",
    "sums=sums**2\n",
    "print(sums)\n",
    "print(sumsq)\n",
    "print(sums-sumsq)"
   ]
  },
  {
   "cell_type": "code",
   "execution_count": null,
   "metadata": {},
   "outputs": [],
   "source": []
  }
 ],
 "metadata": {
  "kernelspec": {
   "display_name": "Python 3",
   "language": "python",
   "name": "python3"
  },
  "language_info": {
   "codemirror_mode": {
    "name": "ipython",
    "version": 3
   },
   "file_extension": ".py",
   "mimetype": "text/x-python",
   "name": "python",
   "nbconvert_exporter": "python",
   "pygments_lexer": "ipython3",
   "version": "3.7.3"
  }
 },
 "nbformat": 4,
 "nbformat_minor": 2
}
